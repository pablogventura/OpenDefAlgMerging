{
  "nbformat": 4,
  "nbformat_minor": 0,
  "metadata": {
    "colab": {
      "provenance": [],
      "include_colab_link": true
    },
    "kernelspec": {
      "name": "python3",
      "display_name": "Python 3"
    },
    "language_info": {
      "name": "python"
    }
  },
  "cells": [
    {
      "cell_type": "markdown",
      "metadata": {
        "id": "view-in-github",
        "colab_type": "text"
      },
      "source": [
        "<a href=\"https://colab.research.google.com/github/pablogventura/OpenDefAlgMerging/blob/master/OpenDefAlgMerging_Running_Example.ipynb\" target=\"_parent\"><img src=\"https://colab.research.google.com/assets/colab-badge.svg\" alt=\"Open In Colab\"/></a>"
      ]
    },
    {
      "cell_type": "markdown",
      "source": [
        "#OpenDefAlgMerging Running Example\n",
        "In this interactive example OpenDef is executed on a algebraic structure."
      ],
      "metadata": {
        "id": "-KgUkE-ezTAW"
      }
    },
    {
      "cell_type": "markdown",
      "source": [
        "## OpenDefAlgMerging Installation"
      ],
      "metadata": {
        "id": "s1tTaylQwfs2"
      }
    },
    {
      "cell_type": "code",
      "execution_count": 1,
      "metadata": {
        "colab": {
          "base_uri": "https://localhost:8080/"
        },
        "id": "vQFKhg3modhT",
        "outputId": "7f2787a9-623e-4e08-fa7e-b22b2f990060"
      },
      "outputs": [
        {
          "output_type": "stream",
          "name": "stdout",
          "text": [
            "Cloning into 'OpenDefAlgMerging'...\n",
            "remote: Enumerating objects: 440, done.\u001b[K\n",
            "remote: Counting objects: 100% (45/45), done.\u001b[K\n",
            "remote: Compressing objects: 100% (39/39), done.\u001b[K\n",
            "remote: Total 440 (delta 11), reused 26 (delta 6), pack-reused 395\u001b[K\n",
            "Receiving objects: 100% (440/440), 4.12 MiB | 14.60 MiB/s, done.\n",
            "Resolving deltas: 100% (32/32), done.\n"
          ]
        }
      ],
      "source": [
        "!git clone https://github.com/pablogventura/OpenDefAlgMerging.git"
      ]
    },
    {
      "cell_type": "code",
      "source": [
        "!cat OpenDefAlgMerging/test1.model"
      ],
      "metadata": {
        "colab": {
          "base_uri": "https://localhost:8080/"
        },
        "id": "PdDiQakyvuhU",
        "outputId": "e744df72-1676-44a6-ad09-5192516f5a79"
      },
      "execution_count": 2,
      "outputs": [
        {
          "output_type": "stream",
          "name": "stdout",
          "text": [
            "# Generated 2020-07-14 11:23:29\n",
            "# Parameters: |A| = 7, |MaxSubs| = 0, |ms| = 0 with ms in MaxSubs, Arities = [2]\n",
            "0 1 2 3 4 5 6\n",
            "f0 2\n",
            "0 4 5\n",
            "0 5 6\n",
            "1 2 3\n",
            "1 4 3\n",
            "0 0 0\n",
            "0 1 0\n",
            "0 2 0\n",
            "0 3 0\n",
            "0 6 0\n",
            "1 0 0\n",
            "1 1 0\n",
            "1 3 0\n",
            "1 5 0\n",
            "1 6 0\n",
            "2 0 0\n",
            "2 1 0\n",
            "2 2 0\n",
            "2 3 0\n",
            "2 4 0\n",
            "2 5 0\n",
            "2 6 0\n",
            "3 0 0\n",
            "3 1 0\n",
            "3 2 0\n",
            "3 3 0\n",
            "3 4 0\n",
            "3 5 0\n",
            "3 6 0\n",
            "4 0 0\n",
            "4 1 0\n",
            "4 2 0\n",
            "4 3 0\n",
            "4 4 0\n",
            "4 5 0\n",
            "4 6 0\n",
            "5 0 0\n",
            "5 1 0\n",
            "5 2 0\n",
            "5 3 0\n",
            "5 4 0\n",
            "5 5 0\n",
            "5 6 0\n",
            "6 0 0\n",
            "6 1 0\n",
            "6 2 0\n",
            "6 3 0\n",
            "6 4 0\n",
            "6 5 0\n",
            "6 6 0\n",
            "\n",
            "T0 3 3\n",
            "6 4 5\n",
            "4 1 2\n",
            "1 5 4\n",
            "\n"
          ]
        }
      ]
    },
    {
      "cell_type": "markdown",
      "source": [
        "## Execution of OpenDefAlgMerging"
      ],
      "metadata": {
        "id": "RAxX-iiDzAPm"
      }
    },
    {
      "cell_type": "code",
      "source": [
        "!python OpenDefAlgMerging/main.py OpenDefAlgMerging/test1.model"
      ],
      "metadata": {
        "colab": {
          "base_uri": "https://localhost:8080/"
        },
        "id": "WX_m2CQmrVch",
        "outputId": "f917fb81-9079-4f7f-f62e-d1a438e745f9"
      },
      "execution_count": 3,
      "outputs": [
        {
          "output_type": "stream",
          "name": "stdout",
          "text": [
            "universe [0, 1, 2, 3, 4, 5, 6]\n",
            "f0 tuples: 49\n",
            "T0 density: 0.008746\n",
            "Target thinning turned T into 1 Ts\n",
            "********************\n",
            "DEFINABLE\n",
            "Elapsed time: 5.421285152435303\n"
          ]
        }
      ]
    },
    {
      "cell_type": "code",
      "source": [
        "!python OpenDefAlgMerging/main.py OpenDefAlgMerging/test2.model"
      ],
      "metadata": {
        "colab": {
          "base_uri": "https://localhost:8080/"
        },
        "id": "veSIZ0GpzHUH",
        "outputId": "2c1f26a7-a7bd-4f68-b923-d233c43ac807"
      },
      "execution_count": 4,
      "outputs": [
        {
          "output_type": "stream",
          "name": "stdout",
          "text": [
            "universe [0, 1, 2, 3, 4, 5, 6, 7, 8, 9, 10, 11, 12, 13, 14, 15, 16, 17, 18, 19, 20, 21, 22, 23, 24, 25, 26, 27, 28, 29, 30, 31, 32, 33, 34, 35, 36, 37, 38, 39, 40, 41, 42, 43, 44, 45, 46, 47, 48, 49, 50, 51, 52, 53, 54, 55, 56, 57, 58, 59, 60, 61, 62, 63, 64, 65, 66, 67, 68, 69, 70, 71, 72, 73, 74, 75, 76, 77, 78, 79, 80, 81, 82, 83, 84, 85, 86, 87, 88, 89, 90, 91, 92, 93, 94, 95, 96, 97, 98, 99]\n",
            "S tuples: 10000\n",
            "universe [0, 1, 2, 3, 4, 5, 6, 7, 8, 9, 10, 11, 12, 13, 14, 15, 16, 17, 18, 19, 20, 21, 22, 23, 24, 25, 26, 27, 28, 29, 30, 31, 32, 33, 34, 35, 36, 37, 38, 39, 40, 41, 42, 43, 44, 45, 46, 47, 48, 49, 50, 51, 52, 53, 54, 55, 56, 57, 58, 59, 60, 61, 62, 63, 64, 65, 66, 67, 68, 69, 70, 71, 72, 73, 74, 75, 76, 77, 78, 79, 80, 81, 82, 83, 84, 85, 86, 87, 88, 89, 90, 91, 92, 93, 94, 95, 96, 97, 98, 99]\n",
            "S1 tuples: 10000\n",
            "universe [0, 1, 2, 3, 4, 5, 6, 7, 8, 9, 10, 11, 12, 13, 14, 15, 16, 17, 18, 19, 20, 21, 22, 23, 24, 25, 26, 27, 28, 29, 30, 31, 32, 33, 34, 35, 36, 37, 38, 39, 40, 41, 42, 43, 44, 45, 46, 47, 48, 49, 50, 51, 52, 53, 54, 55, 56, 57, 58, 59, 60, 61, 62, 63, 64, 65, 66, 67, 68, 69, 70, 71, 72, 73, 74, 75, 76, 77, 78, 79, 80, 81, 82, 83, 84, 85, 86, 87, 88, 89, 90, 91, 92, 93, 94, 95, 96, 97, 98, 99]\n",
            "I tuples: 10000\n",
            "T0 density: 1.000000\n",
            "Target thinning turned T into 2 Ts\n",
            "********************\n",
            "DEFINABLE\n",
            "Elapsed time: 165.25239777565002\n"
          ]
        }
      ]
    }
  ]
}